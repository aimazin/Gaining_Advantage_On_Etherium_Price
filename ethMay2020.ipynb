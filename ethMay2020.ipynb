{
 "cells": [
  {
   "cell_type": "markdown",
   "metadata": {
    "colab_type": "text",
    "id": "qkHn-dNBDPDd"
   },
   "source": [
    "# Ethereum Return Prediction and the Knowledge of When to Strike"
   ]
  },
  {
   "cell_type": "markdown",
   "metadata": {
    "colab_type": "text",
    "id": "-jxAWUXGDPDf"
   },
   "source": [
    "## Business Question and Approach"
   ]
  },
  {
   "cell_type": "markdown",
   "metadata": {
    "colab_type": "text",
    "id": "PcHmexN-DPDh"
   },
   "source": [
    "The tasks:\n",
    "    \n",
    "    1.) inspect what indicators to build a percentage 5 day return model with\n",
    "    \n",
    "    2.) find a good preditive model\n",
    "    \n",
    "    3.) find a characterisation for the indicators state to find out when to buy/strike\n",
    "    \n",
    "    4.) evaluate 1.), 2.), and 3.) through visualizations"
   ]
  },
  {
   "cell_type": "markdown",
   "metadata": {
    "colab_type": "text",
    "id": "m0h9DQPjDPDi"
   },
   "source": [
    "## Ingestion of Data"
   ]
  },
  {
   "cell_type": "code",
   "execution_count": 2,
   "metadata": {
    "colab": {
     "base_uri": "https://localhost:8080/",
     "height": 70
    },
    "colab_type": "code",
    "id": "O2Ojtx9cDPDj",
    "outputId": "4a0b4e2a-28d2-4ba2-f665-2362e5302700"
   },
   "outputs": [
    {
     "name": "stderr",
     "output_type": "stream",
     "text": [
      "/usr/local/lib/python3.6/dist-packages/statsmodels/tools/_testing.py:19: FutureWarning: pandas.util.testing is deprecated. Use the functions in the public API at pandas.testing instead.\n",
      "  import pandas.util.testing as tm\n"
     ]
    }
   ],
   "source": [
    "import numpy as np\n",
    "import pandas as pd\n",
    "import matplotlib.pyplot as plt\n",
    "import talib\n",
    "import seaborn as sns\n",
    "from sklearn.linear_model import LinearRegression\n",
    "from sklearn.model_selection import train_test_split\n",
    "from sklearn.preprocessing import scale, Normalizer\n",
    "from sklearn.metrics import mean_squared_error\n",
    "from sklearn.metrics import classification_report\n",
    "from sklearn.svm import SVR\n",
    "from sklearn.neighbors import KNeighborsRegressor\n",
    "from sklearn.ensemble import RandomForestRegressor as rfr\n",
    "from xgboost import XGBRegressor as xgb"
   ]
  },
  {
   "cell_type": "code",
   "execution_count": 3,
   "metadata": {
    "colab": {},
    "colab_type": "code",
    "id": "jNS_1K3WDPDq"
   },
   "outputs": [],
   "source": [
    "import pandas_datareader as pdr\n",
    "import datetime "
   ]
  },
  {
   "cell_type": "code",
   "execution_count": 4,
   "metadata": {
    "colab": {},
    "colab_type": "code",
    "id": "x0PT0XPdDPDv"
   },
   "outputs": [],
   "source": [
    "btci = pdr.get_data_yahoo('ETH-USD', \n",
    "                          start=datetime.datetime(2017, 7, 1), \n",
    "                          end=datetime.datetime(2020, 7, 1))\n"
   ]
  },
  {
   "cell_type": "markdown",
   "metadata": {
    "colab_type": "text",
    "id": "WZke1csyDPDz"
   },
   "source": [
    "## Exploration of Data"
   ]
  },
  {
   "cell_type": "code",
   "execution_count": 5,
   "metadata": {
    "colab": {
     "base_uri": "https://localhost:8080/",
     "height": 284
    },
    "colab_type": "code",
    "id": "wrSkHCi9DPDz",
    "outputId": "2aa4d7ab-0e00-4861-9779-3a3b189ee0a3"
   },
   "outputs": [
    {
     "data": {
      "text/html": [
       "<div>\n",
       "<style scoped>\n",
       "    .dataframe tbody tr th:only-of-type {\n",
       "        vertical-align: middle;\n",
       "    }\n",
       "\n",
       "    .dataframe tbody tr th {\n",
       "        vertical-align: top;\n",
       "    }\n",
       "\n",
       "    .dataframe thead th {\n",
       "        text-align: right;\n",
       "    }\n",
       "</style>\n",
       "<table border=\"1\" class=\"dataframe\">\n",
       "  <thead>\n",
       "    <tr style=\"text-align: right;\">\n",
       "      <th></th>\n",
       "      <th>High</th>\n",
       "      <th>Low</th>\n",
       "      <th>Open</th>\n",
       "      <th>Close</th>\n",
       "      <th>Volume</th>\n",
       "      <th>Adj Close</th>\n",
       "    </tr>\n",
       "  </thead>\n",
       "  <tbody>\n",
       "    <tr>\n",
       "      <th>count</th>\n",
       "      <td>1098.000000</td>\n",
       "      <td>1098.000000</td>\n",
       "      <td>1098.000000</td>\n",
       "      <td>1098.000000</td>\n",
       "      <td>1.098000e+03</td>\n",
       "      <td>1098.000000</td>\n",
       "    </tr>\n",
       "    <tr>\n",
       "      <th>mean</th>\n",
       "      <td>324.174912</td>\n",
       "      <td>300.918346</td>\n",
       "      <td>313.358083</td>\n",
       "      <td>313.216159</td>\n",
       "      <td>5.733514e+09</td>\n",
       "      <td>313.216159</td>\n",
       "    </tr>\n",
       "    <tr>\n",
       "      <th>std</th>\n",
       "      <td>241.402089</td>\n",
       "      <td>216.161983</td>\n",
       "      <td>229.938924</td>\n",
       "      <td>229.804999</td>\n",
       "      <td>5.446461e+09</td>\n",
       "      <td>229.804999</td>\n",
       "    </tr>\n",
       "    <tr>\n",
       "      <th>min</th>\n",
       "      <td>85.342743</td>\n",
       "      <td>82.829887</td>\n",
       "      <td>84.279694</td>\n",
       "      <td>84.308296</td>\n",
       "      <td>2.537470e+08</td>\n",
       "      <td>84.308296</td>\n",
       "    </tr>\n",
       "    <tr>\n",
       "      <th>25%</th>\n",
       "      <td>175.608868</td>\n",
       "      <td>167.007423</td>\n",
       "      <td>171.416668</td>\n",
       "      <td>171.493206</td>\n",
       "      <td>1.669748e+09</td>\n",
       "      <td>171.493206</td>\n",
       "    </tr>\n",
       "    <tr>\n",
       "      <th>50%</th>\n",
       "      <td>230.685997</td>\n",
       "      <td>217.901024</td>\n",
       "      <td>225.522499</td>\n",
       "      <td>225.488968</td>\n",
       "      <td>3.562880e+09</td>\n",
       "      <td>225.488968</td>\n",
       "    </tr>\n",
       "    <tr>\n",
       "      <th>75%</th>\n",
       "      <td>349.157753</td>\n",
       "      <td>329.213249</td>\n",
       "      <td>338.629990</td>\n",
       "      <td>338.475494</td>\n",
       "      <td>8.085190e+09</td>\n",
       "      <td>338.475494</td>\n",
       "    </tr>\n",
       "    <tr>\n",
       "      <th>max</th>\n",
       "      <td>1432.880005</td>\n",
       "      <td>1290.599976</td>\n",
       "      <td>1397.479980</td>\n",
       "      <td>1396.420044</td>\n",
       "      <td>2.808919e+10</td>\n",
       "      <td>1396.420044</td>\n",
       "    </tr>\n",
       "  </tbody>\n",
       "</table>\n",
       "</div>"
      ],
      "text/plain": [
       "              High          Low  ...        Volume    Adj Close\n",
       "count  1098.000000  1098.000000  ...  1.098000e+03  1098.000000\n",
       "mean    324.174912   300.918346  ...  5.733514e+09   313.216159\n",
       "std     241.402089   216.161983  ...  5.446461e+09   229.804999\n",
       "min      85.342743    82.829887  ...  2.537470e+08    84.308296\n",
       "25%     175.608868   167.007423  ...  1.669748e+09   171.493206\n",
       "50%     230.685997   217.901024  ...  3.562880e+09   225.488968\n",
       "75%     349.157753   329.213249  ...  8.085190e+09   338.475494\n",
       "max    1432.880005  1290.599976  ...  2.808919e+10  1396.420044\n",
       "\n",
       "[8 rows x 6 columns]"
      ]
     },
     "execution_count": 5,
     "metadata": {
      "tags": []
     },
     "output_type": "execute_result"
    }
   ],
   "source": [
    "btci.describe()"
   ]
  },
  {
   "cell_type": "code",
   "execution_count": 6,
   "metadata": {
    "colab": {
     "base_uri": "https://localhost:8080/",
     "height": 373
    },
    "colab_type": "code",
    "id": "jP0MAfmBDPD3",
    "outputId": "200e1510-3dd4-416c-aed4-dcb393cd1000"
   },
   "outputs": [
    {
     "data": {
      "text/html": [
       "<div>\n",
       "<style scoped>\n",
       "    .dataframe tbody tr th:only-of-type {\n",
       "        vertical-align: middle;\n",
       "    }\n",
       "\n",
       "    .dataframe tbody tr th {\n",
       "        vertical-align: top;\n",
       "    }\n",
       "\n",
       "    .dataframe thead th {\n",
       "        text-align: right;\n",
       "    }\n",
       "</style>\n",
       "<table border=\"1\" class=\"dataframe\">\n",
       "  <thead>\n",
       "    <tr style=\"text-align: right;\">\n",
       "      <th></th>\n",
       "      <th>High</th>\n",
       "      <th>Low</th>\n",
       "      <th>Open</th>\n",
       "      <th>Close</th>\n",
       "      <th>Volume</th>\n",
       "      <th>Adj Close</th>\n",
       "    </tr>\n",
       "    <tr>\n",
       "      <th>Date</th>\n",
       "      <th></th>\n",
       "      <th></th>\n",
       "      <th></th>\n",
       "      <th></th>\n",
       "      <th></th>\n",
       "      <th></th>\n",
       "    </tr>\n",
       "  </thead>\n",
       "  <tbody>\n",
       "    <tr>\n",
       "      <th>2017-06-30</th>\n",
       "      <td>293.747986</td>\n",
       "      <td>268.617004</td>\n",
       "      <td>293.352997</td>\n",
       "      <td>274.601013</td>\n",
       "      <td>1089200000</td>\n",
       "      <td>274.601013</td>\n",
       "    </tr>\n",
       "    <tr>\n",
       "      <th>2017-07-01</th>\n",
       "      <td>295.509003</td>\n",
       "      <td>262.519989</td>\n",
       "      <td>275.122986</td>\n",
       "      <td>287.987000</td>\n",
       "      <td>1123330048</td>\n",
       "      <td>287.987000</td>\n",
       "    </tr>\n",
       "    <tr>\n",
       "      <th>2017-07-02</th>\n",
       "      <td>291.104004</td>\n",
       "      <td>281.175995</td>\n",
       "      <td>288.414001</td>\n",
       "      <td>282.898010</td>\n",
       "      <td>851408000</td>\n",
       "      <td>282.898010</td>\n",
       "    </tr>\n",
       "    <tr>\n",
       "      <th>2017-07-03</th>\n",
       "      <td>287.388000</td>\n",
       "      <td>273.110992</td>\n",
       "      <td>282.191010</td>\n",
       "      <td>273.303009</td>\n",
       "      <td>687691008</td>\n",
       "      <td>273.303009</td>\n",
       "    </tr>\n",
       "    <tr>\n",
       "      <th>2017-07-04</th>\n",
       "      <td>275.125000</td>\n",
       "      <td>261.446991</td>\n",
       "      <td>273.098999</td>\n",
       "      <td>268.773987</td>\n",
       "      <td>790256000</td>\n",
       "      <td>268.773987</td>\n",
       "    </tr>\n",
       "    <tr>\n",
       "      <th>2017-07-05</th>\n",
       "      <td>278.476013</td>\n",
       "      <td>265.511993</td>\n",
       "      <td>268.858002</td>\n",
       "      <td>270.549011</td>\n",
       "      <td>623080000</td>\n",
       "      <td>270.549011</td>\n",
       "    </tr>\n",
       "    <tr>\n",
       "      <th>2017-07-06</th>\n",
       "      <td>273.942993</td>\n",
       "      <td>244.173996</td>\n",
       "      <td>270.350006</td>\n",
       "      <td>245.990997</td>\n",
       "      <td>687251968</td>\n",
       "      <td>245.990997</td>\n",
       "    </tr>\n",
       "    <tr>\n",
       "      <th>2017-07-07</th>\n",
       "      <td>273.476990</td>\n",
       "      <td>236.550995</td>\n",
       "      <td>245.889999</td>\n",
       "      <td>251.697006</td>\n",
       "      <td>754958016</td>\n",
       "      <td>251.697006</td>\n",
       "    </tr>\n",
       "    <tr>\n",
       "      <th>2017-07-08</th>\n",
       "      <td>255.104996</td>\n",
       "      <td>242.136993</td>\n",
       "      <td>251.822006</td>\n",
       "      <td>242.136993</td>\n",
       "      <td>505118016</td>\n",
       "      <td>242.136993</td>\n",
       "    </tr>\n",
       "    <tr>\n",
       "      <th>2017-07-09</th>\n",
       "      <td>243.070999</td>\n",
       "      <td>196.964996</td>\n",
       "      <td>243.011002</td>\n",
       "      <td>215.356995</td>\n",
       "      <td>937219008</td>\n",
       "      <td>215.356995</td>\n",
       "    </tr>\n",
       "  </tbody>\n",
       "</table>\n",
       "</div>"
      ],
      "text/plain": [
       "                  High         Low  ...      Volume   Adj Close\n",
       "Date                                ...                        \n",
       "2017-06-30  293.747986  268.617004  ...  1089200000  274.601013\n",
       "2017-07-01  295.509003  262.519989  ...  1123330048  287.987000\n",
       "2017-07-02  291.104004  281.175995  ...   851408000  282.898010\n",
       "2017-07-03  287.388000  273.110992  ...   687691008  273.303009\n",
       "2017-07-04  275.125000  261.446991  ...   790256000  268.773987\n",
       "2017-07-05  278.476013  265.511993  ...   623080000  270.549011\n",
       "2017-07-06  273.942993  244.173996  ...   687251968  245.990997\n",
       "2017-07-07  273.476990  236.550995  ...   754958016  251.697006\n",
       "2017-07-08  255.104996  242.136993  ...   505118016  242.136993\n",
       "2017-07-09  243.070999  196.964996  ...   937219008  215.356995\n",
       "\n",
       "[10 rows x 6 columns]"
      ]
     },
     "execution_count": 6,
     "metadata": {
      "tags": []
     },
     "output_type": "execute_result"
    }
   ],
   "source": [
    "btci.head(10)\n"
   ]
  },
  {
   "cell_type": "markdown",
   "metadata": {
    "colab_type": "text",
    "id": "Y7WolbKrDPD5"
   },
   "source": [
    "## Creating Indicators and targets from data"
   ]
  },
  {
   "cell_type": "code",
   "execution_count": 7,
   "metadata": {
    "colab": {},
    "colab_type": "code",
    "id": "xID2WOvlDPD6"
   },
   "outputs": [],
   "source": [
    "\n",
    "bx = btci.iloc[:,5].values.astype(float)\n",
    "tx = btci.iloc[:,1].values.astype(float)\n",
    "cx = btci.iloc[:,2].values.astype(float)\n",
    "bix = btci.iloc[:,4].values.astype(float)"
   ]
  },
  {
   "cell_type": "markdown",
   "metadata": {
    "colab_type": "text",
    "id": "qcHxIO8CDPD-"
   },
   "source": [
    "### the indicators\n"
   ]
  },
  {
   "cell_type": "code",
   "execution_count": 8,
   "metadata": {
    "colab": {
     "base_uri": "https://localhost:8080/",
     "height": 34
    },
    "colab_type": "code",
    "id": "0WtwJLIwDPD-",
    "outputId": "d5743d31-8fa8-4ff3-ea2c-c01967aea81e"
   },
   "outputs": [
    {
     "name": "stdout",
     "output_type": "stream",
     "text": [
      "['max33', 'rsix33', 'ccix33', 'mfix33']\n"
     ]
    }
   ],
   "source": [
    " #create bbands indicators\n",
    "btci[\"upperband\"], btci[\"middleband\"], btci[\"lowerband\"] = talib.BBANDS(bx, timeperiod=33, nbdevup=2, nbdevdn=2, matype=0)\n",
    "\n",
    "#create the SMA indicator\n",
    "btci['max' + str(7)] = talib.SMA(bx,timeperiod=7) / bx\n",
    "\n",
    "feature_names = []  # a list of the feature names for \n",
    "\n",
    "# Create moving averages and rsi for timeperiods of 14, 30, 50, and 200\n",
    "for n in [33]:\n",
    "    # Create the RSI indicator\n",
    "    btci['rsix' + str(n)] = talib.RSI(bx, timeperiod=n)\n",
    "    \n",
    "    # Create the CCI indicator\n",
    "    btci['ccix' + str(n)] = talib.CCI(tx,cx,bx, timeperiod=n)\n",
    "    \n",
    "    # Create the MFI indicator\n",
    "    btci['mfix' + str(n)] = talib.MFI(tx , cx, bx, bix, timeperiod=n)\n",
    "    \n",
    "   \n",
    "    \n",
    "    # Add rsi and moving average to the feature name list\n",
    "    feature_names = feature_names + ['max' + str(n), 'rsix' + str(n)\n",
    "                                     , 'ccix' + str(n), 'mfix' + str(n)]\n",
    "\n",
    "print(feature_names)"
   ]
  },
  {
   "cell_type": "markdown",
   "metadata": {
    "colab_type": "text",
    "id": "oIgKCHYCDPEC"
   },
   "source": [
    "### the target (cumulative percentage 5 day return)"
   ]
  },
  {
   "cell_type": "code",
   "execution_count": 9,
   "metadata": {
    "colab": {},
    "colab_type": "code",
    "id": "vAHDM_qYDPEC"
   },
   "outputs": [],
   "source": [
    "btci['5cum_pct']=(1+btci['Close'].pct_change(-5).diff(periods=1)).cumprod()\n"
   ]
  },
  {
   "cell_type": "code",
   "execution_count": 10,
   "metadata": {
    "colab": {
     "base_uri": "https://localhost:8080/",
     "height": 370
    },
    "colab_type": "code",
    "id": "V3Ux8Rn4DPEF",
    "outputId": "889f1454-8975-4e45-a2a8-2cd92ce27f48"
   },
   "outputs": [
    {
     "name": "stdout",
     "output_type": "stream",
     "text": [
      "<class 'pandas.core.frame.DataFrame'>\n",
      "DatetimeIndex: 1098 entries, 2017-06-30 to 2020-07-01\n",
      "Data columns (total 14 columns):\n",
      " #   Column      Non-Null Count  Dtype  \n",
      "---  ------      --------------  -----  \n",
      " 0   High        1098 non-null   float64\n",
      " 1   Low         1098 non-null   float64\n",
      " 2   Open        1098 non-null   float64\n",
      " 3   Close       1098 non-null   float64\n",
      " 4   Volume      1098 non-null   int64  \n",
      " 5   Adj Close   1098 non-null   float64\n",
      " 6   upperband   1066 non-null   float64\n",
      " 7   middleband  1066 non-null   float64\n",
      " 8   lowerband   1066 non-null   float64\n",
      " 9   max7        1092 non-null   float64\n",
      " 10  rsix33      1065 non-null   float64\n",
      " 11  ccix33      1066 non-null   float64\n",
      " 12  mfix33      1065 non-null   float64\n",
      " 13  5cum_pct    1092 non-null   float64\n",
      "dtypes: float64(13), int64(1)\n",
      "memory usage: 128.7 KB\n"
     ]
    }
   ],
   "source": [
    "btci.info()"
   ]
  },
  {
   "cell_type": "markdown",
   "metadata": {
    "colab_type": "text",
    "id": "3h248KnSDPEH"
   },
   "source": [
    "## Evaluating indicators with target"
   ]
  },
  {
   "cell_type": "code",
   "execution_count": 11,
   "metadata": {
    "colab": {},
    "colab_type": "code",
    "id": "ml_CFY0uDPEI",
    "scrolled": true
   },
   "outputs": [],
   "source": [
    "corr = btci.corr()\n"
   ]
  },
  {
   "cell_type": "code",
   "execution_count": 12,
   "metadata": {
    "colab": {
     "base_uri": "https://localhost:8080/",
     "height": 745
    },
    "colab_type": "code",
    "id": "9Z_6U7IyDPEL",
    "outputId": "aa7d9562-ad69-4e2f-b5ab-cc194c5a4af5"
   },
   "outputs": [
    {
     "data": {
      "text/plain": [
       "<function matplotlib.pyplot.show>"
      ]
     },
     "execution_count": 12,
     "metadata": {
      "tags": []
     },
     "output_type": "execute_result"
    },
    {
     "data": {
      "image/png": "[encoded data removed]",
      "text/plain": [
       "<Figure size 960x720 with 2 Axes>"
      ]
     },
     "metadata": {
      "tags": []
     },
     "output_type": "display_data"
    }
   ],
   "source": [
    "\n",
    "plt.figure(num=None, figsize=(12, 9), dpi=80, facecolor='w', edgecolor='k')\n",
    "sns.heatmap(corr, annot=True)\n",
    "plt.yticks(rotation=0); plt.xticks(rotation=90)  # fix ticklabel directions\n",
    "plt.tight_layout()  # fits plot area to the plot, \"tightly\"\n",
    "plt.show  # show the plot"
   ]
  },
  {
   "cell_type": "markdown",
   "metadata": {
    "colab_type": "text",
    "id": "iMzlir_QDPEN"
   },
   "source": [
    "## Building and none visual evaluations of models"
   ]
  },
  {
   "cell_type": "markdown",
   "metadata": {
    "colab_type": "text",
    "id": "AKb3IMbODPEN"
   },
   "source": [
    "### train test split of series data"
   ]
  },
  {
   "cell_type": "code",
   "execution_count": 13,
   "metadata": {
    "colab": {
     "base_uri": "https://localhost:8080/",
     "height": 0
    },
    "colab_type": "code",
    "id": "XUDvELeuDPEO",
    "outputId": "563599c6-f1ae-4da5-ff9c-629b2d0e1565"
   },
   "outputs": [
    {
     "name": "stderr",
     "output_type": "stream",
     "text": [
      "/usr/local/lib/python3.6/dist-packages/sklearn/preprocessing/_data.py:173: UserWarning: Numerical issues were encountered when centering the data and might not be solved. Dataset may contain too large values. You may need to prescale your features.\n",
      "  warnings.warn(\"Numerical issues were encountered \"\n",
      "/usr/local/lib/python3.6/dist-packages/sklearn/preprocessing/_data.py:173: UserWarning: Numerical issues were encountered when centering the data and might not be solved. Dataset may contain too large values. You may need to prescale your features.\n",
      "  warnings.warn(\"Numerical issues were encountered \"\n"
     ]
    }
   ],
   "source": [
    "\n",
    "con=btci.shape[0]\n",
    "con60=con-60\n",
    "\n",
    "X_train = scale(btci.iloc[201:con60,:13].values)\n",
    "X_test = scale(btci.iloc[(con60-1):con,:13].values)[:56,:]\n",
    "\n",
    "y_train = btci.iloc[201:con60,-1].values\n",
    "y_test = btci.iloc[(con60-1):con,-1].values[:56]"
   ]
  },
  {
   "cell_type": "markdown",
   "metadata": {
    "colab_type": "text",
    "id": "yHupsfuEDPEQ"
   },
   "source": [
    "### Linear model"
   ]
  },
  {
   "cell_type": "code",
   "execution_count": 14,
   "metadata": {
    "colab": {},
    "colab_type": "code",
    "id": "2jmd8EiJDPER"
   },
   "outputs": [],
   "source": [
    "lm_model = LinearRegression()"
   ]
  },
  {
   "cell_type": "code",
   "execution_count": 15,
   "metadata": {
    "colab": {
     "base_uri": "https://localhost:8080/",
     "height": 0
    },
    "colab_type": "code",
    "id": "VdjgvUqVDPEW",
    "outputId": "c85f3b97-59c1-478d-9905-da3f304d978c"
   },
   "outputs": [
    {
     "data": {
      "text/plain": [
       "LinearRegression(copy_X=True, fit_intercept=True, n_jobs=None, normalize=False)"
      ]
     },
     "execution_count": 15,
     "metadata": {
      "tags": []
     },
     "output_type": "execute_result"
    }
   ],
   "source": [
    "lm_model.fit(X_train,y_train)"
   ]
  },
  {
   "cell_type": "code",
   "execution_count": 16,
   "metadata": {
    "colab": {},
    "colab_type": "code",
    "id": "ZgzITuO5DPEZ"
   },
   "outputs": [],
   "source": [
    "pred = lm_model.predict(X_test)"
   ]
  },
  {
   "cell_type": "code",
   "execution_count": 17,
   "metadata": {
    "colab": {
     "base_uri": "https://localhost:8080/",
     "height": 0
    },
    "colab_type": "code",
    "id": "-l-0OtL6DPEd",
    "outputId": "ea4bd8bd-3ed5-4a9f-b4c3-3d71bbac8444"
   },
   "outputs": [
    {
     "name": "stdout",
     "output_type": "stream",
     "text": [
      "0.8859023416337208\n"
     ]
    }
   ],
   "source": [
    "print(lm_model.score(X_train,y_train))"
   ]
  },
  {
   "cell_type": "code",
   "execution_count": 18,
   "metadata": {
    "colab": {
     "base_uri": "https://localhost:8080/",
     "height": 0
    },
    "colab_type": "code",
    "id": "1ZJFIINMDPEi",
    "outputId": "b6eb308f-8908-4da9-e764-06df8841f8d2"
   },
   "outputs": [
    {
     "name": "stdout",
     "output_type": "stream",
     "text": [
      "-35748.19216418012\n"
     ]
    }
   ],
   "source": [
    "print(lm_model.score(X_test,y_test))"
   ]
  },
  {
   "cell_type": "markdown",
   "metadata": {
    "colab_type": "text",
    "id": "BH-o5OEvDPEk"
   },
   "source": [
    "### SVM model"
   ]
  },
  {
   "cell_type": "code",
   "execution_count": 19,
   "metadata": {
    "colab": {},
    "colab_type": "code",
    "id": "gDx1zpHuDPEl"
   },
   "outputs": [],
   "source": [
    "sv_model = SVR(kernel='linear')"
   ]
  },
  {
   "cell_type": "code",
   "execution_count": 20,
   "metadata": {
    "colab": {
     "base_uri": "https://localhost:8080/",
     "height": 0
    },
    "colab_type": "code",
    "id": "tS6pDMNODPEo",
    "outputId": "4dece778-4c80-4c38-c5ab-90c445b47083"
   },
   "outputs": [
    {
     "data": {
      "text/plain": [
       "SVR(C=1.0, cache_size=200, coef0=0.0, degree=3, epsilon=0.1, gamma='scale',\n",
       "    kernel='linear', max_iter=-1, shrinking=True, tol=0.001, verbose=False)"
      ]
     },
     "execution_count": 20,
     "metadata": {
      "tags": []
     },
     "output_type": "execute_result"
    }
   ],
   "source": [
    "sv_model.fit(X_train,y_train)"
   ]
  },
  {
   "cell_type": "code",
   "execution_count": 21,
   "metadata": {
    "colab": {},
    "colab_type": "code",
    "id": "xWf0qJ_IDPEr"
   },
   "outputs": [],
   "source": [
    "predsv = sv_model.predict(X_test)"
   ]
  },
  {
   "cell_type": "code",
   "execution_count": 22,
   "metadata": {
    "colab": {
     "base_uri": "https://localhost:8080/",
     "height": 0
    },
    "colab_type": "code",
    "id": "rLz03QeLDPEu",
    "outputId": "e45e1890-a348-438a-d8d6-aa8e559a8476"
   },
   "outputs": [
    {
     "name": "stdout",
     "output_type": "stream",
     "text": [
      "-39652.9235009217\n"
     ]
    }
   ],
   "source": [
    "print(sv_model.score(X_test,y_test))"
   ]
  },
  {
   "cell_type": "markdown",
   "metadata": {
    "colab_type": "text",
    "id": "LF9eF1ZIDPEw"
   },
   "source": [
    "### KNN model"
   ]
  },
  {
   "cell_type": "code",
   "execution_count": 23,
   "metadata": {
    "colab": {},
    "colab_type": "code",
    "id": "iU12gcyIDPEx"
   },
   "outputs": [],
   "source": [
    "kn_model = KNeighborsRegressor(n_neighbors=7)"
   ]
  },
  {
   "cell_type": "code",
   "execution_count": 24,
   "metadata": {
    "colab": {
     "base_uri": "https://localhost:8080/",
     "height": 0
    },
    "colab_type": "code",
    "id": "KpDWN76PDPE0",
    "outputId": "f0a86b0f-877a-4765-c1a6-5fc8ba31df4d"
   },
   "outputs": [
    {
     "data": {
      "text/plain": [
       "KNeighborsRegressor(algorithm='auto', leaf_size=30, metric='minkowski',\n",
       "                    metric_params=None, n_jobs=None, n_neighbors=7, p=2,\n",
       "                    weights='uniform')"
      ]
     },
     "execution_count": 24,
     "metadata": {
      "tags": []
     },
     "output_type": "execute_result"
    }
   ],
   "source": [
    "kn_model.fit(X_train,y_train)"
   ]
  },
  {
   "cell_type": "code",
   "execution_count": 25,
   "metadata": {
    "colab": {},
    "colab_type": "code",
    "id": "3REm_PFJDPE5"
   },
   "outputs": [],
   "source": [
    "predkn = kn_model.predict(X_test)"
   ]
  },
  {
   "cell_type": "code",
   "execution_count": 26,
   "metadata": {
    "colab": {},
    "colab_type": "code",
    "id": "m0Q20d_oDPE9"
   },
   "outputs": [],
   "source": [
    "predkntr = kn_model.predict(X_train)"
   ]
  },
  {
   "cell_type": "code",
   "execution_count": 27,
   "metadata": {
    "colab": {
     "base_uri": "https://localhost:8080/",
     "height": 0
    },
    "colab_type": "code",
    "id": "_9XGYThgDPFA",
    "outputId": "82449c74-3e26-4236-d30f-3868ebdea42f"
   },
   "outputs": [
    {
     "name": "stdout",
     "output_type": "stream",
     "text": [
      "-33534.94603770505\n"
     ]
    }
   ],
   "source": [
    "print(kn_model.score(X_test,y_test))"
   ]
  },
  {
   "cell_type": "markdown",
   "metadata": {
    "colab_type": "text",
    "id": "ZMjmTWf6DPFD"
   },
   "source": [
    "### RandomForest model"
   ]
  },
  {
   "cell_type": "code",
   "execution_count": 28,
   "metadata": {
    "colab": {
     "base_uri": "https://localhost:8080/",
     "height": 0
    },
    "colab_type": "code",
    "id": "QA631b9yDPFE",
    "outputId": "3b2885ba-b7ea-4b8c-b66f-40c0424baf45"
   },
   "outputs": [
    {
     "data": {
      "text/plain": [
       "RandomForestRegressor(bootstrap=True, ccp_alpha=0.0, criterion='mse',\n",
       "                      max_depth=None, max_features='auto', max_leaf_nodes=None,\n",
       "                      max_samples=None, min_impurity_decrease=0.0,\n",
       "                      min_impurity_split=None, min_samples_leaf=1,\n",
       "                      min_samples_split=2, min_weight_fraction_leaf=0.0,\n",
       "                      n_estimators=100, n_jobs=None, oob_score=False,\n",
       "                      random_state=None, verbose=0, warm_start=False)"
      ]
     },
     "execution_count": 28,
     "metadata": {
      "tags": []
     },
     "output_type": "execute_result"
    }
   ],
   "source": [
    "R=rfr()\n",
    "R.fit(X_test,y_test)"
   ]
  },
  {
   "cell_type": "code",
   "execution_count": 29,
   "metadata": {
    "colab": {
     "base_uri": "https://localhost:8080/",
     "height": 0
    },
    "colab_type": "code",
    "id": "ITR4AzRGDPFH",
    "outputId": "7fed5391-16b5-4f39-e0d4-dfc756c7b115"
   },
   "outputs": [
    {
     "name": "stdout",
     "output_type": "stream",
     "text": [
      "0.9094058762752921\n"
     ]
    }
   ],
   "source": [
    "print(R.score(X_test,y_test))"
   ]
  },
  {
   "cell_type": "code",
   "execution_count": 30,
   "metadata": {
    "colab": {
     "base_uri": "https://localhost:8080/",
     "height": 0
    },
    "colab_type": "code",
    "id": "gQs9xz9tDPFM",
    "outputId": "c4d1493b-f3ba-4395-bfc3-ee1d8235125a"
   },
   "outputs": [
    {
     "name": "stdout",
     "output_type": "stream",
     "text": [
      "7.154826389104092e-08\n"
     ]
    }
   ],
   "source": [
    "predr=R.predict(X_test)\n",
    "print(mean_squared_error(y_test,predr))"
   ]
  },
  {
   "cell_type": "markdown",
   "metadata": {
    "colab_type": "text",
    "id": "jSgAcGleDPFO"
   },
   "source": [
    "### XGBoost model"
   ]
  },
  {
   "cell_type": "code",
   "execution_count": 31,
   "metadata": {
    "colab": {
     "base_uri": "https://localhost:8080/",
     "height": 0
    },
    "colab_type": "code",
    "id": "Z4Tg06IwDPFO",
    "outputId": "0e5b17b0-d9ac-409d-b8f1-4bf87c28a9ad"
   },
   "outputs": [
    {
     "name": "stdout",
     "output_type": "stream",
     "text": [
      "[16:51:35] WARNING: /workspace/src/objective/regression_obj.cu:152: reg:linear is now deprecated in favor of reg:squarederror.\n"
     ]
    },
    {
     "data": {
      "text/plain": [
       "XGBRegressor(base_score=0.5, booster='gbtree', colsample_bylevel=1,\n",
       "             colsample_bynode=1, colsample_bytree=1, gamma=0,\n",
       "             importance_type='gain', learning_rate=0.1, max_delta_step=0,\n",
       "             max_depth=3, min_child_weight=1, missing=None, n_estimators=100,\n",
       "             n_jobs=1, nthread=None, objective='reg:linear', random_state=0,\n",
       "             reg_alpha=0, reg_lambda=1, scale_pos_weight=1, seed=None,\n",
       "             silent=None, subsample=1, verbosity=1)"
      ]
     },
     "execution_count": 31,
     "metadata": {
      "tags": []
     },
     "output_type": "execute_result"
    }
   ],
   "source": [
    "X=xgb()\n",
    "X.fit(X_train,y_train)"
   ]
  },
  {
   "cell_type": "code",
   "execution_count": 32,
   "metadata": {
    "colab": {},
    "colab_type": "code",
    "id": "WP1ZoaNtDPFQ"
   },
   "outputs": [],
   "source": [
    "predx=X.predict(X_test)"
   ]
  },
  {
   "cell_type": "code",
   "execution_count": 33,
   "metadata": {
    "colab": {
     "base_uri": "https://localhost:8080/",
     "height": 0
    },
    "colab_type": "code",
    "id": "Xmv_PhtdDPFS",
    "outputId": "b559e433-0704-4da4-a563-633ca485e37f"
   },
   "outputs": [
    {
     "name": "stdout",
     "output_type": "stream",
     "text": [
      "-37146.231021711785\n"
     ]
    }
   ],
   "source": [
    "print(X.score(X_test,y_test))"
   ]
  },
  {
   "cell_type": "markdown",
   "metadata": {
    "colab_type": "text",
    "id": "-QubI1zDDPFU"
   },
   "source": [
    "#### the randomforest model is th most superior!"
   ]
  },
  {
   "cell_type": "markdown",
   "metadata": {
    "colab_type": "text",
    "id": "B2FZMmWwDPFV"
   },
   "source": [
    "## Building representations for each state in time"
   ]
  },
  {
   "cell_type": "markdown",
   "metadata": {
    "colab_type": "text",
    "id": "c8M7M4xfDPFV"
   },
   "source": [
    "#### we do this by clustering the indicators in 5 theoretical states:\n",
    "    -- mono\n",
    "    -- up\n",
    "    -- up steep\n",
    "    -- down\n",
    "    -- down steep"
   ]
  },
  {
   "cell_type": "code",
   "execution_count": 99,
   "metadata": {
    "colab": {},
    "colab_type": "code",
    "id": "M4YBUET8diVD"
   },
   "outputs": [],
   "source": [
    "X_trai=np.asmatrix((np.log2(y_train),X_train[:,6],X_train[:,7],X_train[:,8]))\n",
    "X_tes=np.asmatrix(((y_test),X_test[:,6],X_test[:,7],X_test[:,8]))"
   ]
  },
  {
   "cell_type": "code",
   "execution_count": 100,
   "metadata": {
    "colab": {},
    "colab_type": "code",
    "id": "s2Hr15ZNDPFV"
   },
   "outputs": [],
   "source": [
    "from sklearn.cluster import KMeans"
   ]
  },
  {
   "cell_type": "code",
   "execution_count": 101,
   "metadata": {
    "colab": {
     "base_uri": "https://localhost:8080/",
     "height": 67
    },
    "colab_type": "code",
    "id": "NqrlYIFCDPFY",
    "outputId": "313b62a2-1dc3-4826-92f1-607af167d191"
   },
   "outputs": [
    {
     "data": {
      "text/plain": [
       "KMeans(algorithm='auto', copy_x=True, init='k-means++', max_iter=300,\n",
       "       n_clusters=4, n_init=10, n_jobs=None, precompute_distances='auto',\n",
       "       random_state=None, tol=0.0001, verbose=0)"
      ]
     },
     "execution_count": 101,
     "metadata": {
      "tags": []
     },
     "output_type": "execute_result"
    }
   ],
   "source": [
    "kmeans = KMeans(n_clusters=4) # You want cluster the passenger records into 2: Survived or Not survived\n",
    "kmeans.fit(X_trai.T)"
   ]
  },
  {
   "cell_type": "code",
   "execution_count": 102,
   "metadata": {
    "colab": {},
    "colab_type": "code",
    "id": "-UVXex6SDPFb"
   },
   "outputs": [],
   "source": [
    "predclutr=kmeans.predict(X_trai.T)"
   ]
  },
  {
   "cell_type": "code",
   "execution_count": 103,
   "metadata": {
    "colab": {
     "base_uri": "https://localhost:8080/",
     "height": 34
    },
    "colab_type": "code",
    "id": "d7fES9wvjyHX",
    "outputId": "10386bfd-ee60-492e-b181-c26cd99152ec"
   },
   "outputs": [
    {
     "data": {
      "text/plain": [
       "((4, 837), (4, 56))"
      ]
     },
     "execution_count": 103,
     "metadata": {
      "tags": []
     },
     "output_type": "execute_result"
    }
   ],
   "source": [
    "X_trai.shape,X_tes.shape"
   ]
  },
  {
   "cell_type": "code",
   "execution_count": 104,
   "metadata": {
    "colab": {},
    "colab_type": "code",
    "id": "NVNFuNfzDPFe"
   },
   "outputs": [],
   "source": [
    "predclu=kmeans.predict(X_tes.T)"
   ]
  },
  {
   "cell_type": "markdown",
   "metadata": {
    "colab_type": "text",
    "id": "o1o7JX3rDPFg"
   },
   "source": [
    "## Visual Evaluation"
   ]
  },
  {
   "cell_type": "code",
   "execution_count": 105,
   "metadata": {
    "colab": {
     "base_uri": "https://localhost:8080/",
     "height": 295
    },
    "colab_type": "code",
    "id": "oV9M2Hb4DPFg",
    "outputId": "97acc163-784c-41d5-e59d-787dd3472fb4"
   },
   "outputs": [
    {
     "data": {
      "image/png": "[encoded data removed]",
      "text/plain": [
       "<Figure size 432x288 with 1 Axes>"
      ]
     },
     "metadata": {
      "needs_background": "light",
      "tags": []
     },
     "output_type": "display_data"
    }
   ],
   "source": [
    "plt.plot(btci['5cum_pct'].dropna())\n",
    "plt.title('ETH cumulative percentage 5 day return or target')\n",
    "plt.xlabel('Years')\n",
    "plt.ylabel('ETH cumulative percentage return')\n",
    "plt.show()"
   ]
  },
  {
   "cell_type": "code",
   "execution_count": 106,
   "metadata": {
    "colab": {
     "base_uri": "https://localhost:8080/",
     "height": 281
    },
    "colab_type": "code",
    "id": "ujWbv7ZdDPFi",
    "outputId": "e0465794-b73c-43b2-f912-118cd717bd20"
   },
   "outputs": [
    {
     "data": {
      "image/png": "[encoded data removed]",
      "text/plain": [
       "<Figure size 432x288 with 1 Axes>"
      ]
     },
     "metadata": {
      "needs_background": "light",
      "tags": []
     },
     "output_type": "display_data"
    }
   ],
   "source": [
    "plt.plot(btci.iloc[con60-1:,9].values)\n",
    "plt.title('ETH last 60 days Close')\n",
    "plt.ylabel('ETH Stock Price')\n",
    "plt.show()"
   ]
  },
  {
   "cell_type": "code",
   "execution_count": 107,
   "metadata": {
    "colab": {
     "base_uri": "https://localhost:8080/",
     "height": 295
    },
    "colab_type": "code",
    "id": "hEy-Exb0DPFn",
    "outputId": "057925cb-e6e2-4f74-fc01-5dd0ad14781d"
   },
   "outputs": [
    {
     "data": {
      "image/png": "[encoded data removed]",
      "text/plain": [
       "<Figure size 432x288 with 1 Axes>"
      ]
     },
     "metadata": {
      "needs_background": "light",
      "tags": []
     },
     "output_type": "display_data"
    }
   ],
   "source": [
    "# Visualising the results\n",
    "\n",
    "plt.plot(y_test, color = 'red', label = 'Real ETH cumulative percentage return')\n",
    "#plt.plot(predx, color = 'blue', label = 'Predicted XGB')\n",
    "#plt.plot(predkn, color = 'green', label = 'Predicted KNN')\n",
    "plt.plot(predr, color = 'cyan', label = 'Predicted RFR')\n",
    "plt.title('ETH cumulative percentage 5 day return Prediction last 60 days')\n",
    "plt.xlabel('days')\n",
    "plt.ylabel('ETH cumulative percentage return')\n",
    "plt.legend()\n",
    "plt.show()"
   ]
  },
  {
   "cell_type": "code",
   "execution_count": 108,
   "metadata": {
    "colab": {
     "base_uri": "https://localhost:8080/",
     "height": 363
    },
    "colab_type": "code",
    "id": "XEEm7mEtDPFp",
    "outputId": "ad251570-104d-4c3d-862b-b94bca07faa6"
   },
   "outputs": [
    {
     "data": {
      "image/png": "[encoded data removed]",
      "text/plain": [
       "<Figure size 432x288 with 1 Axes>"
      ]
     },
     "metadata": {
      "needs_background": "light",
      "tags": []
     },
     "output_type": "display_data"
    },
    {
     "data": {
      "image/png": "[encoded data removed]",
      "text/plain": [
       "<Figure size 432x288 with 1 Axes>"
      ]
     },
     "metadata": {
      "needs_background": "light",
      "tags": []
     },
     "output_type": "display_data"
    }
   ],
   "source": [
    "# Visualising the results\n",
    "plt.figure()\n",
    "plt.subplot(2,1,1)\n",
    "plt.plot(y_test, color = 'red', label = 'Real ETH Stock Price')\n",
    "plt.plot(predr, color = 'cyan', label = 'Predicted RFR')\n",
    "plt.title('ETH cumulative percentage return Prediction last 60 days')\n",
    "plt.xlabel('Time')\n",
    "plt.ylabel('ETH cumulative percentage return')\n",
    "plt.show()\n",
    "plt.subplot(2,1,2)\n",
    "plt.plot(predclu)\n",
    "plt.title('state of ETH indicators')\n",
    "plt.xlabel('days')\n",
    "plt.ylabel('states')\n",
    "plt.show()"
   ]
  },
  {
   "cell_type": "code",
   "execution_count": 109,
   "metadata": {
    "colab": {
     "base_uri": "https://localhost:8080/",
     "height": 363
    },
    "colab_type": "code",
    "id": "Bzwq0vxsDPFt",
    "outputId": "5d81d692-3a13-467b-bf9a-5fd73e659a4d"
   },
   "outputs": [
    {
     "data": {
      "image/png": "[encoded data removed]",
      "text/plain": [
       "<Figure size 432x288 with 1 Axes>"
      ]
     },
     "metadata": {
      "needs_background": "light",
      "tags": []
     },
     "output_type": "display_data"
    },
    {
     "data": {
      "image/png": "[encoded data removed]",
      "text/plain": [
       "<Figure size 432x288 with 1 Axes>"
      ]
     },
     "metadata": {
      "needs_background": "light",
      "tags": []
     },
     "output_type": "display_data"
    }
   ],
   "source": [
    "plt.figure()\n",
    "plt.subplot(2,1,1)\n",
    "plt.plot(y_train, color = 'red', label = 'Real ETH cumulative percentage return')\n",
    "plt.title('Real ETH percentage cumulative')\n",
    "plt.xlabel('days')\n",
    "plt.ylabel('ETH cumulative percentage return')\n",
    "#plt.ylim(.06,.12)\n",
    "#plt.xlim(500,450)\n",
    "plt.show()\n",
    "\n",
    "plt.subplot(2,1,2)\n",
    "plt.plot(predclutr)\n",
    "plt.title('state of ETH indicators')\n",
    "#plt.xlim(500,450)\n",
    "plt.xlabel('days')\n",
    "plt.ylabel('states')\n",
    "plt.show()"
   ]
  },
  {
   "cell_type": "markdown",
   "metadata": {
    "colab_type": "text",
    "id": "MX-9GKViDPFx"
   },
   "source": [
    "#### what we can see from these graphs is how the randomforest model did on unknown data, and that the state representations captured the rising trend or when to strike in \"cumulative 5 days percentage return\" although due the randomness of picking specific states. all in all one can call this whole exercise a success answering all our questions."
   ]
  },
  {
   "cell_type": "markdown",
   "metadata": {
    "colab_type": "text",
    "id": "nhSWCxU4DPFy"
   },
   "source": []
  }
 ],
 "metadata": {
  "colab": {
   "collapsed_sections": [
    "AKb3IMbODPEN",
    "yHupsfuEDPEQ",
    "BH-o5OEvDPEk",
    "LF9eF1ZIDPEw",
    "ZMjmTWf6DPFD",
    "jSgAcGleDPFO",
    "-QubI1zDDPFU",
    "c8M7M4xfDPFV",
    "MX-9GKViDPFx"
   ],
   "name": "ethMay2020.ipynb",
   "provenance": []
  },
  "kernelspec": {
   "display_name": "Python 3",
   "language": "python",
   "name": "python3"
  },
  "language_info": {
   "codemirror_mode": {
    "name": "ipython",
    "version": 3
   },
   "file_extension": ".py",
   "mimetype": "text/x-python",
   "name": "python",
   "nbconvert_exporter": "python",
   "pygments_lexer": "ipython3",
   "version": "3.6.10"
  }
 },
 "nbformat": 4,
 "nbformat_minor": 1
}
